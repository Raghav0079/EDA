{
 "cells": [
  {
   "cell_type": "code",
   "execution_count": 2,
   "id": "0ce884bd-9cdd-4dda-b0f6-ee4fd23eabc5",
   "metadata": {},
   "outputs": [
    {
     "name": "stdout",
     "output_type": "stream",
     "text": [
      "good bye\n"
     ]
    }
   ],
   "source": [
    "for letter in 'attack':\n",
    "    if letter == 'a':\n",
    "        break\n",
    "    print(\"current letter :\",letter)\n",
    "print('good bye')    \n",
    "    \n",
    "        \n"
   ]
  },
  {
   "cell_type": "code",
   "execution_count": 3,
   "id": "3505b6cd-aa27-44d3-8e1f-f6e0c4f3ed0a",
   "metadata": {},
   "outputs": [
    {
     "name": "stdout",
     "output_type": "stream",
     "text": [
      "current variable value: 10\n",
      "current variable value: 9\n",
      "current variable value: 8\n",
      "current variable value: 7\n",
      "current variable value: 6\n",
      "good bye\n"
     ]
    }
   ],
   "source": [
    "var=10\n",
    "while var>0:\n",
    "    print('current variable value:',var)\n",
    "    var=var-1\n",
    "    if var==5:\n",
    "        break\n",
    "print('good bye')        \n"
   ]
  },
  {
   "cell_type": "code",
   "execution_count": 4,
   "id": "63d564a8-c5d3-4ecb-8a75-fef46d5ae6c3",
   "metadata": {},
   "outputs": [
    {
     "name": "stdout",
     "output_type": "stream",
     "text": [
      "prime factors for: 96\n",
      "38\n"
     ]
    }
   ],
   "source": [
    "num = 96\n",
    "print('prime factors for:',num)\n",
    "d=23\n",
    "while num >11:\n",
    "    if num%d==20:\n",
    "        print(d)\n",
    "        num=num/d\n",
    "        continue\n",
    "    d=d+1    \n"
   ]
  },
  {
   "cell_type": "code",
   "execution_count": 5,
   "id": "53879135-c10f-4423-9893-3c46d5342c42",
   "metadata": {},
   "outputs": [
    {
     "name": "stdout",
     "output_type": "stream",
     "text": [
      "jan sun\n",
      "jan mon\n",
      "jan tue\n",
      "jan wed\n",
      "jan thurs\n",
      "march sun\n",
      "march mon\n",
      "march tue\n",
      "march wed\n",
      "march thurs\n",
      "august sun\n",
      "august mon\n",
      "august tue\n",
      "august wed\n",
      "august thurs\n",
      "oct sun\n",
      "oct mon\n",
      "oct tue\n",
      "oct wed\n",
      "oct thurs\n",
      "good bye\n"
     ]
    }
   ],
   "source": [
    "months=['jan','march','august','oct']\n",
    "days=['sun','mon','tue','wed','thurs']\n",
    "\n",
    "for x in months:\n",
    "    for y in days:\n",
    "        print(x,y)\n",
    "\n",
    "print('good bye')"
   ]
  },
  {
   "cell_type": "code",
   "execution_count": 6,
   "id": "ccc45366-7255-467f-bbf8-70b021bda41c",
   "metadata": {},
   "outputs": [
    {
     "name": "stdout",
     "output_type": "stream",
     "text": [
      "ID before passing : 2332446817376\n",
      "ID inside the function : 2332446817376\n"
     ]
    }
   ],
   "source": [
    "def testfn(arg):\n",
    "    print('ID inside the function :',id(arg))\n",
    "\n",
    "var='Hello'\n",
    "print(\"ID before passing :\",id(var))\n",
    "testfn(var)"
   ]
  },
  {
   "cell_type": "code",
   "execution_count": 26,
   "id": "405eb33f-7c5f-464d-a3bf-06d7e7e29d3f",
   "metadata": {},
   "outputs": [
    {
     "name": "stdout",
     "output_type": "stream",
     "text": [
      "abeeejk\n"
     ]
    }
   ],
   "source": [
    "def greetings(name):\n",
    "    'this is string of fn'\n",
    "    print('abeee{}'.format(name))\n",
    "    return\n",
    "\n",
    "greetings('jk')"
   ]
  },
  {
   "cell_type": "code",
   "execution_count": null,
   "id": "8e77a310-9906-4bee-8441-4c679b580a25",
   "metadata": {},
   "outputs": [],
   "source": []
  },
  {
   "cell_type": "code",
   "execution_count": 30,
   "id": "fb03f305-a62f-4f4a-8e83-f93ee883b306",
   "metadata": {},
   "outputs": [
    {
     "name": "stdout",
     "output_type": "stream",
     "text": [
      "This is a basic function\n"
     ]
    }
   ],
   "source": [
    "\n",
    "        \n",
    "def my_function():\n",
    "  print(\"This is a basic function\")\n",
    "\n",
    "my_function()"
   ]
  },
  {
   "cell_type": "code",
   "execution_count": 32,
   "id": "47812a08-539c-4de6-8ef7-3fed3a0e0841",
   "metadata": {},
   "outputs": [
    {
     "name": "stdout",
     "output_type": "stream",
     "text": [
      "Enter your name:  tasco\n",
      "Enter your address:  oman\n"
     ]
    },
    {
     "name": "stdout",
     "output_type": "stream",
     "text": [
      "Name: tasco\n",
      "Address: oman\n"
     ]
    }
   ],
   "source": [
    "def get_person_info():\n",
    "  name = input(\"Enter your name: \")\n",
    "  address = input(\"Enter your address: \")\n",
    "  print(\"Name:\", name)\n",
    "  print(\"Address:\", address)\n",
    "\n",
    "get_person_info()"
   ]
  },
  {
   "cell_type": "code",
   "execution_count": null,
   "id": "cc8fde79-6736-44c6-8e48-38cdc56f9613",
   "metadata": {},
   "outputs": [],
   "source": [
    "def get_school_data():\n",
    "  school_data = {}\n",
    "  num_students = int(input(\"Enter the number of students: \"))\n",
    "\n",
    "  for i in range(num_students):\n",
    "    name = input(\"Enter student name: \")\n",
    "    school_data[name] = {}\n",
    "    school_data[name]['roll_no'] = input(\"Enter roll number: \")\n",
    "    school_data[name]['grades'] = input(\"Enter grades (comma-separated): \").split(',')\n",
    "\n",
    "  print(\"\\nSchool Data:\")\n",
    "  for name, data in school_data.items():\n",
    "    print(\"Name:\", name)\n",
    "    print(\"Roll No:\", data['roll_no'])\n",
    "    print(\"Grades:\", \", \".join(data['grades']))  # Nicer formatting for grades\n",
    "    print(\"-\" * 20)\n",
    "\n",
    "get_school_data()"
   ]
  },
  {
   "cell_type": "code",
   "execution_count": null,
   "id": "fd27434a-0665-4ed5-8b82-7f715286bba9",
   "metadata": {},
   "outputs": [],
   "source": [
    "print('boss')"
   ]
  },
  {
   "cell_type": "code",
   "execution_count": null,
   "id": "f0dff47c-387b-40aa-afb4-3fee09339a37",
   "metadata": {},
   "outputs": [],
   "source": []
  }
 ],
 "metadata": {
  "kernelspec": {
   "display_name": "base",
   "language": "python",
   "name": "python3"
  },
  "language_info": {
   "codemirror_mode": {
    "name": "ipython",
    "version": 3
   },
   "file_extension": ".py",
   "mimetype": "text/x-python",
   "name": "python",
   "nbconvert_exporter": "python",
   "pygments_lexer": "ipython3",
   "version": "3.12.7"
  }
 },
 "nbformat": 4,
 "nbformat_minor": 5
}
